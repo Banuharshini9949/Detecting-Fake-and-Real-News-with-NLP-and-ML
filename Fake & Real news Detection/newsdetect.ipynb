{
 "cells": [
  {
   "cell_type": "code",
   "execution_count": 1,
   "id": "bc499c7a",
   "metadata": {},
   "outputs": [],
   "source": [
    "import numpy as np\n",
    "import pandas as pd\n",
    "import re\n",
    "import nltk\n",
    "from nltk.corpus import stopwords\n",
    "from nltk.stem.porter import PorterStemmer\n",
    "from sklearn.feature_extraction.text import TfidfVectorizer\n",
    "from sklearn.model_selection import train_test_split\n",
    "from sklearn.naive_bayes import MultinomialNB\n",
    "from sklearn.metrics import accuracy_score\n"
   ]
  },
  {
   "cell_type": "code",
   "execution_count": 2,
   "id": "b651a915",
   "metadata": {
    "scrolled": true
   },
   "outputs": [
    {
     "name": "stderr",
     "output_type": "stream",
     "text": [
      "[nltk_data] Downloading package stopwords to\n",
      "[nltk_data]     C:\\Users\\harsh\\AppData\\Roaming\\nltk_data...\n",
      "[nltk_data]   Package stopwords is already up-to-date!\n"
     ]
    },
    {
     "data": {
      "text/plain": [
       "True"
      ]
     },
     "execution_count": 2,
     "metadata": {},
     "output_type": "execute_result"
    }
   ],
   "source": [
    "# Download stopwords if needed\n",
    "nltk.download('stopwords')\n"
   ]
  },
  {
   "cell_type": "code",
   "execution_count": 3,
   "id": "3b8e702b",
   "metadata": {},
   "outputs": [],
   "source": [
    "# Load the dataset\n",
    "news_df = pd.read_csv('fake_real.csv')  # Make sure the file exists in the directory\n"
   ]
  },
  {
   "cell_type": "code",
   "execution_count": 4,
   "id": "6826b0b2",
   "metadata": {},
   "outputs": [
    {
     "data": {
      "text/html": [
       "<div>\n",
       "<style scoped>\n",
       "    .dataframe tbody tr th:only-of-type {\n",
       "        vertical-align: middle;\n",
       "    }\n",
       "\n",
       "    .dataframe tbody tr th {\n",
       "        vertical-align: top;\n",
       "    }\n",
       "\n",
       "    .dataframe thead th {\n",
       "        text-align: right;\n",
       "    }\n",
       "</style>\n",
       "<table border=\"1\" class=\"dataframe\">\n",
       "  <thead>\n",
       "    <tr style=\"text-align: right;\">\n",
       "      <th></th>\n",
       "      <th>title</th>\n",
       "      <th>text</th>\n",
       "      <th>subject</th>\n",
       "      <th>date</th>\n",
       "      <th>label</th>\n",
       "    </tr>\n",
       "  </thead>\n",
       "  <tbody>\n",
       "    <tr>\n",
       "      <th>0</th>\n",
       "      <td>John Lewis Has the PERFECT Birthday Message F...</td>\n",
       "      <td>Rep. John Lewis (D-GA) is a civil rights icon....</td>\n",
       "      <td>News</td>\n",
       "      <td>26-Oct-17</td>\n",
       "      <td>0</td>\n",
       "    </tr>\n",
       "    <tr>\n",
       "      <th>1</th>\n",
       "      <td>Nazis Whine Over Impending Release Of An Anti...</td>\n",
       "      <td>With the rise of Donald Trump has also come th...</td>\n",
       "      <td>News</td>\n",
       "      <td>08-Oct-17</td>\n",
       "      <td>0</td>\n",
       "    </tr>\n",
       "    <tr>\n",
       "      <th>2</th>\n",
       "      <td>Final Republican tax bill slashes U.S. corpora...</td>\n",
       "      <td>WASHINGTON (Reuters) - Congressional Republica...</td>\n",
       "      <td>politicsNews</td>\n",
       "      <td>15-Dec-17</td>\n",
       "      <td>1</td>\n",
       "    </tr>\n",
       "    <tr>\n",
       "      <th>3</th>\n",
       "      <td>Obama?s Head Of Disaster Relief TRASHES Trump...</td>\n",
       "      <td>It s no secret that Donald Trump s response to...</td>\n",
       "      <td>News</td>\n",
       "      <td>30-Sep-17</td>\n",
       "      <td>0</td>\n",
       "    </tr>\n",
       "    <tr>\n",
       "      <th>4</th>\n",
       "      <td>Nuclear plan backer denies Inauguration Day te...</td>\n",
       "      <td>WASHINGTON (Reuters) - A company promoting a p...</td>\n",
       "      <td>politicsNews</td>\n",
       "      <td>11-Dec-17</td>\n",
       "      <td>1</td>\n",
       "    </tr>\n",
       "  </tbody>\n",
       "</table>\n",
       "</div>"
      ],
      "text/plain": [
       "                                               title  \\\n",
       "0   John Lewis Has the PERFECT Birthday Message F...   \n",
       "1   Nazis Whine Over Impending Release Of An Anti...   \n",
       "2  Final Republican tax bill slashes U.S. corpora...   \n",
       "3   Obama?s Head Of Disaster Relief TRASHES Trump...   \n",
       "4  Nuclear plan backer denies Inauguration Day te...   \n",
       "\n",
       "                                                text       subject       date  \\\n",
       "0  Rep. John Lewis (D-GA) is a civil rights icon....          News  26-Oct-17   \n",
       "1  With the rise of Donald Trump has also come th...          News  08-Oct-17   \n",
       "2  WASHINGTON (Reuters) - Congressional Republica...  politicsNews  15-Dec-17   \n",
       "3  It s no secret that Donald Trump s response to...          News  30-Sep-17   \n",
       "4  WASHINGTON (Reuters) - A company promoting a p...  politicsNews  11-Dec-17   \n",
       "\n",
       "   label  \n",
       "0      0  \n",
       "1      0  \n",
       "2      1  \n",
       "3      0  \n",
       "4      1  "
      ]
     },
     "execution_count": 4,
     "metadata": {},
     "output_type": "execute_result"
    }
   ],
   "source": [
    "news_df.head()"
   ]
  },
  {
   "cell_type": "code",
   "execution_count": 5,
   "id": "6277a444",
   "metadata": {},
   "outputs": [
    {
     "data": {
      "text/html": [
       "<div>\n",
       "<style scoped>\n",
       "    .dataframe tbody tr th:only-of-type {\n",
       "        vertical-align: middle;\n",
       "    }\n",
       "\n",
       "    .dataframe tbody tr th {\n",
       "        vertical-align: top;\n",
       "    }\n",
       "\n",
       "    .dataframe thead th {\n",
       "        text-align: right;\n",
       "    }\n",
       "</style>\n",
       "<table border=\"1\" class=\"dataframe\">\n",
       "  <thead>\n",
       "    <tr style=\"text-align: right;\">\n",
       "      <th></th>\n",
       "      <th>title</th>\n",
       "      <th>text</th>\n",
       "      <th>subject</th>\n",
       "      <th>date</th>\n",
       "      <th>label</th>\n",
       "    </tr>\n",
       "  </thead>\n",
       "  <tbody>\n",
       "    <tr>\n",
       "      <th>1995</th>\n",
       "      <td>Rupert Murdoch Told Roger Ailes To Help Elect...</td>\n",
       "      <td>A new report has just revealed that Fox News p...</td>\n",
       "      <td>News</td>\n",
       "      <td>19-Jul-17</td>\n",
       "      <td>0</td>\n",
       "    </tr>\n",
       "    <tr>\n",
       "      <th>1996</th>\n",
       "      <td>Republican U.S. Senators Rubio, Lee want boost...</td>\n",
       "      <td>WASHINGTON (Reuters) - Republican U.S. Senator...</td>\n",
       "      <td>politicsNews</td>\n",
       "      <td>09-Nov-17</td>\n",
       "      <td>1</td>\n",
       "    </tr>\n",
       "    <tr>\n",
       "      <th>1997</th>\n",
       "      <td>Trump Throws Hissy Fit After New York Times R...</td>\n",
       "      <td>Donald Trump woke up on Wednesday morning and ...</td>\n",
       "      <td>News</td>\n",
       "      <td>28-Jun-17</td>\n",
       "      <td>0</td>\n",
       "    </tr>\n",
       "    <tr>\n",
       "      <th>1998</th>\n",
       "      <td>Democrats Give Trump A Big F**ck You After He...</td>\n",
       "      <td>Donald Trump s Twitter feed is always a goldmi...</td>\n",
       "      <td>News</td>\n",
       "      <td>28-Nov-17</td>\n",
       "      <td>0</td>\n",
       "    </tr>\n",
       "    <tr>\n",
       "      <th>1999</th>\n",
       "      <td>Factbox: Big-ticket items at center of Congres...</td>\n",
       "      <td>(Reuters) - The U.S. Congress on Thursday appr...</td>\n",
       "      <td>politicsNews</td>\n",
       "      <td>21-Dec-17</td>\n",
       "      <td>1</td>\n",
       "    </tr>\n",
       "  </tbody>\n",
       "</table>\n",
       "</div>"
      ],
      "text/plain": [
       "                                                  title  \\\n",
       "1995   Rupert Murdoch Told Roger Ailes To Help Elect...   \n",
       "1996  Republican U.S. Senators Rubio, Lee want boost...   \n",
       "1997   Trump Throws Hissy Fit After New York Times R...   \n",
       "1998   Democrats Give Trump A Big F**ck You After He...   \n",
       "1999  Factbox: Big-ticket items at center of Congres...   \n",
       "\n",
       "                                                   text       subject  \\\n",
       "1995  A new report has just revealed that Fox News p...          News   \n",
       "1996  WASHINGTON (Reuters) - Republican U.S. Senator...  politicsNews   \n",
       "1997  Donald Trump woke up on Wednesday morning and ...          News   \n",
       "1998  Donald Trump s Twitter feed is always a goldmi...          News   \n",
       "1999  (Reuters) - The U.S. Congress on Thursday appr...  politicsNews   \n",
       "\n",
       "           date  label  \n",
       "1995  19-Jul-17      0  \n",
       "1996  09-Nov-17      1  \n",
       "1997  28-Jun-17      0  \n",
       "1998  28-Nov-17      0  \n",
       "1999  21-Dec-17      1  "
      ]
     },
     "execution_count": 5,
     "metadata": {},
     "output_type": "execute_result"
    }
   ],
   "source": [
    "news_df.tail()"
   ]
  },
  {
   "cell_type": "code",
   "execution_count": 6,
   "id": "8b739dc4",
   "metadata": {},
   "outputs": [
    {
     "data": {
      "text/plain": [
       "(2000, 5)"
      ]
     },
     "execution_count": 6,
     "metadata": {},
     "output_type": "execute_result"
    }
   ],
   "source": [
    "news_df.shape"
   ]
  },
  {
   "cell_type": "code",
   "execution_count": 7,
   "id": "c9935605",
   "metadata": {},
   "outputs": [],
   "source": [
    "# Fill missing values with a blank space\n",
    "news_df = news_df.fillna(' ')\n"
   ]
  },
  {
   "cell_type": "code",
   "execution_count": 8,
   "id": "a5fffd19",
   "metadata": {},
   "outputs": [
    {
     "data": {
      "text/plain": [
       "title      0\n",
       "text       0\n",
       "subject    0\n",
       "date       0\n",
       "label      0\n",
       "dtype: int64"
      ]
     },
     "execution_count": 8,
     "metadata": {},
     "output_type": "execute_result"
    }
   ],
   "source": [
    "news_df.isna().sum()"
   ]
  },
  {
   "cell_type": "code",
   "execution_count": 9,
   "id": "c9661eb8",
   "metadata": {},
   "outputs": [],
   "source": [
    "# Combine the 'title' and 'text' columns into a single content column\n",
    "news_df['content'] = news_df['title'] + \" \" + news_df['text']\n"
   ]
  },
  {
   "cell_type": "code",
   "execution_count": 10,
   "id": "f404fc4d",
   "metadata": {},
   "outputs": [
    {
     "data": {
      "text/html": [
       "<div>\n",
       "<style scoped>\n",
       "    .dataframe tbody tr th:only-of-type {\n",
       "        vertical-align: middle;\n",
       "    }\n",
       "\n",
       "    .dataframe tbody tr th {\n",
       "        vertical-align: top;\n",
       "    }\n",
       "\n",
       "    .dataframe thead th {\n",
       "        text-align: right;\n",
       "    }\n",
       "</style>\n",
       "<table border=\"1\" class=\"dataframe\">\n",
       "  <thead>\n",
       "    <tr style=\"text-align: right;\">\n",
       "      <th></th>\n",
       "      <th>title</th>\n",
       "      <th>text</th>\n",
       "      <th>subject</th>\n",
       "      <th>date</th>\n",
       "      <th>label</th>\n",
       "      <th>content</th>\n",
       "    </tr>\n",
       "  </thead>\n",
       "  <tbody>\n",
       "    <tr>\n",
       "      <th>0</th>\n",
       "      <td>John Lewis Has the PERFECT Birthday Message F...</td>\n",
       "      <td>Rep. John Lewis (D-GA) is a civil rights icon....</td>\n",
       "      <td>News</td>\n",
       "      <td>26-Oct-17</td>\n",
       "      <td>0</td>\n",
       "      <td>John Lewis Has the PERFECT Birthday Message F...</td>\n",
       "    </tr>\n",
       "    <tr>\n",
       "      <th>1</th>\n",
       "      <td>Nazis Whine Over Impending Release Of An Anti...</td>\n",
       "      <td>With the rise of Donald Trump has also come th...</td>\n",
       "      <td>News</td>\n",
       "      <td>08-Oct-17</td>\n",
       "      <td>0</td>\n",
       "      <td>Nazis Whine Over Impending Release Of An Anti...</td>\n",
       "    </tr>\n",
       "    <tr>\n",
       "      <th>2</th>\n",
       "      <td>Final Republican tax bill slashes U.S. corpora...</td>\n",
       "      <td>WASHINGTON (Reuters) - Congressional Republica...</td>\n",
       "      <td>politicsNews</td>\n",
       "      <td>15-Dec-17</td>\n",
       "      <td>1</td>\n",
       "      <td>Final Republican tax bill slashes U.S. corpora...</td>\n",
       "    </tr>\n",
       "    <tr>\n",
       "      <th>3</th>\n",
       "      <td>Obama?s Head Of Disaster Relief TRASHES Trump...</td>\n",
       "      <td>It s no secret that Donald Trump s response to...</td>\n",
       "      <td>News</td>\n",
       "      <td>30-Sep-17</td>\n",
       "      <td>0</td>\n",
       "      <td>Obama?s Head Of Disaster Relief TRASHES Trump...</td>\n",
       "    </tr>\n",
       "    <tr>\n",
       "      <th>4</th>\n",
       "      <td>Nuclear plan backer denies Inauguration Day te...</td>\n",
       "      <td>WASHINGTON (Reuters) - A company promoting a p...</td>\n",
       "      <td>politicsNews</td>\n",
       "      <td>11-Dec-17</td>\n",
       "      <td>1</td>\n",
       "      <td>Nuclear plan backer denies Inauguration Day te...</td>\n",
       "    </tr>\n",
       "    <tr>\n",
       "      <th>...</th>\n",
       "      <td>...</td>\n",
       "      <td>...</td>\n",
       "      <td>...</td>\n",
       "      <td>...</td>\n",
       "      <td>...</td>\n",
       "      <td>...</td>\n",
       "    </tr>\n",
       "    <tr>\n",
       "      <th>1995</th>\n",
       "      <td>Rupert Murdoch Told Roger Ailes To Help Elect...</td>\n",
       "      <td>A new report has just revealed that Fox News p...</td>\n",
       "      <td>News</td>\n",
       "      <td>19-Jul-17</td>\n",
       "      <td>0</td>\n",
       "      <td>Rupert Murdoch Told Roger Ailes To Help Elect...</td>\n",
       "    </tr>\n",
       "    <tr>\n",
       "      <th>1996</th>\n",
       "      <td>Republican U.S. Senators Rubio, Lee want boost...</td>\n",
       "      <td>WASHINGTON (Reuters) - Republican U.S. Senator...</td>\n",
       "      <td>politicsNews</td>\n",
       "      <td>09-Nov-17</td>\n",
       "      <td>1</td>\n",
       "      <td>Republican U.S. Senators Rubio, Lee want boost...</td>\n",
       "    </tr>\n",
       "    <tr>\n",
       "      <th>1997</th>\n",
       "      <td>Trump Throws Hissy Fit After New York Times R...</td>\n",
       "      <td>Donald Trump woke up on Wednesday morning and ...</td>\n",
       "      <td>News</td>\n",
       "      <td>28-Jun-17</td>\n",
       "      <td>0</td>\n",
       "      <td>Trump Throws Hissy Fit After New York Times R...</td>\n",
       "    </tr>\n",
       "    <tr>\n",
       "      <th>1998</th>\n",
       "      <td>Democrats Give Trump A Big F**ck You After He...</td>\n",
       "      <td>Donald Trump s Twitter feed is always a goldmi...</td>\n",
       "      <td>News</td>\n",
       "      <td>28-Nov-17</td>\n",
       "      <td>0</td>\n",
       "      <td>Democrats Give Trump A Big F**ck You After He...</td>\n",
       "    </tr>\n",
       "    <tr>\n",
       "      <th>1999</th>\n",
       "      <td>Factbox: Big-ticket items at center of Congres...</td>\n",
       "      <td>(Reuters) - The U.S. Congress on Thursday appr...</td>\n",
       "      <td>politicsNews</td>\n",
       "      <td>21-Dec-17</td>\n",
       "      <td>1</td>\n",
       "      <td>Factbox: Big-ticket items at center of Congres...</td>\n",
       "    </tr>\n",
       "  </tbody>\n",
       "</table>\n",
       "<p>2000 rows × 6 columns</p>\n",
       "</div>"
      ],
      "text/plain": [
       "                                                  title  \\\n",
       "0      John Lewis Has the PERFECT Birthday Message F...   \n",
       "1      Nazis Whine Over Impending Release Of An Anti...   \n",
       "2     Final Republican tax bill slashes U.S. corpora...   \n",
       "3      Obama?s Head Of Disaster Relief TRASHES Trump...   \n",
       "4     Nuclear plan backer denies Inauguration Day te...   \n",
       "...                                                 ...   \n",
       "1995   Rupert Murdoch Told Roger Ailes To Help Elect...   \n",
       "1996  Republican U.S. Senators Rubio, Lee want boost...   \n",
       "1997   Trump Throws Hissy Fit After New York Times R...   \n",
       "1998   Democrats Give Trump A Big F**ck You After He...   \n",
       "1999  Factbox: Big-ticket items at center of Congres...   \n",
       "\n",
       "                                                   text       subject  \\\n",
       "0     Rep. John Lewis (D-GA) is a civil rights icon....          News   \n",
       "1     With the rise of Donald Trump has also come th...          News   \n",
       "2     WASHINGTON (Reuters) - Congressional Republica...  politicsNews   \n",
       "3     It s no secret that Donald Trump s response to...          News   \n",
       "4     WASHINGTON (Reuters) - A company promoting a p...  politicsNews   \n",
       "...                                                 ...           ...   \n",
       "1995  A new report has just revealed that Fox News p...          News   \n",
       "1996  WASHINGTON (Reuters) - Republican U.S. Senator...  politicsNews   \n",
       "1997  Donald Trump woke up on Wednesday morning and ...          News   \n",
       "1998  Donald Trump s Twitter feed is always a goldmi...          News   \n",
       "1999  (Reuters) - The U.S. Congress on Thursday appr...  politicsNews   \n",
       "\n",
       "           date  label                                            content  \n",
       "0     26-Oct-17      0   John Lewis Has the PERFECT Birthday Message F...  \n",
       "1     08-Oct-17      0   Nazis Whine Over Impending Release Of An Anti...  \n",
       "2     15-Dec-17      1  Final Republican tax bill slashes U.S. corpora...  \n",
       "3     30-Sep-17      0   Obama?s Head Of Disaster Relief TRASHES Trump...  \n",
       "4     11-Dec-17      1  Nuclear plan backer denies Inauguration Day te...  \n",
       "...         ...    ...                                                ...  \n",
       "1995  19-Jul-17      0   Rupert Murdoch Told Roger Ailes To Help Elect...  \n",
       "1996  09-Nov-17      1  Republican U.S. Senators Rubio, Lee want boost...  \n",
       "1997  28-Jun-17      0   Trump Throws Hissy Fit After New York Times R...  \n",
       "1998  28-Nov-17      0   Democrats Give Trump A Big F**ck You After He...  \n",
       "1999  21-Dec-17      1  Factbox: Big-ticket items at center of Congres...  \n",
       "\n",
       "[2000 rows x 6 columns]"
      ]
     },
     "execution_count": 10,
     "metadata": {},
     "output_type": "execute_result"
    }
   ],
   "source": [
    "news_df"
   ]
  },
  {
   "cell_type": "code",
   "execution_count": 11,
   "id": "c08f8900",
   "metadata": {},
   "outputs": [
    {
     "data": {
      "text/plain": [
       "0        John Lewis Has the PERFECT Birthday Message F...\n",
       "1        Nazis Whine Over Impending Release Of An Anti...\n",
       "2       Final Republican tax bill slashes U.S. corpora...\n",
       "3        Obama?s Head Of Disaster Relief TRASHES Trump...\n",
       "4       Nuclear plan backer denies Inauguration Day te...\n",
       "                              ...                        \n",
       "1995     Rupert Murdoch Told Roger Ailes To Help Elect...\n",
       "1996    Republican U.S. Senators Rubio, Lee want boost...\n",
       "1997     Trump Throws Hissy Fit After New York Times R...\n",
       "1998     Democrats Give Trump A Big F**ck You After He...\n",
       "1999    Factbox: Big-ticket items at center of Congres...\n",
       "Name: content, Length: 2000, dtype: object"
      ]
     },
     "execution_count": 11,
     "metadata": {},
     "output_type": "execute_result"
    }
   ],
   "source": [
    "news_df['content']"
   ]
  },
  {
   "cell_type": "code",
   "execution_count": 12,
   "id": "d2360766",
   "metadata": {},
   "outputs": [],
   "source": [
    "# Stemming function\n",
    "ps = PorterStemmer()\n",
    "def stemming(content):\n",
    "    stemmed_content = re.sub('[^a-zA-Z]', ' ', content)  # Remove non-alphabetic characters\n",
    "    stemmed_content = stemmed_content.lower()            # Lowercase the text\n",
    "    stemmed_content = stemmed_content.split()            # Tokenize by splitting\n",
    "    stemmed_content = [ps.stem(word) for word in stemmed_content if word not in stopwords.words('english')]  # Stem and remove stopwords\n",
    "    stemmed_content = ' '.join(stemmed_content)          # Join back into a single string\n",
    "    return stemmed_content\n"
   ]
  },
  {
   "cell_type": "code",
   "execution_count": 13,
   "id": "917267be",
   "metadata": {},
   "outputs": [],
   "source": [
    "# Apply stemming to the 'content' column\n",
    "news_df['content'] = news_df['content'].apply(stemming)\n"
   ]
  },
  {
   "cell_type": "code",
   "execution_count": 8,
   "id": "70af2c44",
   "metadata": {},
   "outputs": [],
   "source": [
    "# Separate the features (X) and the target label (y)\n",
    "X = news_df['content'].values\n",
    "y = news_df['label'].values\n"
   ]
  },
  {
   "cell_type": "code",
   "execution_count": 9,
   "id": "1b6093af",
   "metadata": {},
   "outputs": [],
   "source": [
    "# Convert text data into numerical data using TF-IDF vectorization\n",
    "vectorizer = TfidfVectorizer()\n",
    "X_tfidf = vectorizer.fit_transform(X)\n"
   ]
  },
  {
   "cell_type": "code",
   "execution_count": 10,
   "id": "ae31bfc3",
   "metadata": {},
   "outputs": [],
   "source": [
    "# Split the data into training and testing sets (80% training, 20% testing)\n",
    "X_train_tfidf, X_test_tfidf, y_train, y_test = train_test_split(X_tfidf, y, test_size=0.2, stratify=y, random_state=1)\n"
   ]
  },
  {
   "cell_type": "code",
   "execution_count": 11,
   "id": "d149c72c",
   "metadata": {},
   "outputs": [
    {
     "data": {
      "text/html": [
       "<style>#sk-container-id-1 {color: black;}#sk-container-id-1 pre{padding: 0;}#sk-container-id-1 div.sk-toggleable {background-color: white;}#sk-container-id-1 label.sk-toggleable__label {cursor: pointer;display: block;width: 100%;margin-bottom: 0;padding: 0.3em;box-sizing: border-box;text-align: center;}#sk-container-id-1 label.sk-toggleable__label-arrow:before {content: \"▸\";float: left;margin-right: 0.25em;color: #696969;}#sk-container-id-1 label.sk-toggleable__label-arrow:hover:before {color: black;}#sk-container-id-1 div.sk-estimator:hover label.sk-toggleable__label-arrow:before {color: black;}#sk-container-id-1 div.sk-toggleable__content {max-height: 0;max-width: 0;overflow: hidden;text-align: left;background-color: #f0f8ff;}#sk-container-id-1 div.sk-toggleable__content pre {margin: 0.2em;color: black;border-radius: 0.25em;background-color: #f0f8ff;}#sk-container-id-1 input.sk-toggleable__control:checked~div.sk-toggleable__content {max-height: 200px;max-width: 100%;overflow: auto;}#sk-container-id-1 input.sk-toggleable__control:checked~label.sk-toggleable__label-arrow:before {content: \"▾\";}#sk-container-id-1 div.sk-estimator input.sk-toggleable__control:checked~label.sk-toggleable__label {background-color: #d4ebff;}#sk-container-id-1 div.sk-label input.sk-toggleable__control:checked~label.sk-toggleable__label {background-color: #d4ebff;}#sk-container-id-1 input.sk-hidden--visually {border: 0;clip: rect(1px 1px 1px 1px);clip: rect(1px, 1px, 1px, 1px);height: 1px;margin: -1px;overflow: hidden;padding: 0;position: absolute;width: 1px;}#sk-container-id-1 div.sk-estimator {font-family: monospace;background-color: #f0f8ff;border: 1px dotted black;border-radius: 0.25em;box-sizing: border-box;margin-bottom: 0.5em;}#sk-container-id-1 div.sk-estimator:hover {background-color: #d4ebff;}#sk-container-id-1 div.sk-parallel-item::after {content: \"\";width: 100%;border-bottom: 1px solid gray;flex-grow: 1;}#sk-container-id-1 div.sk-label:hover label.sk-toggleable__label {background-color: #d4ebff;}#sk-container-id-1 div.sk-serial::before {content: \"\";position: absolute;border-left: 1px solid gray;box-sizing: border-box;top: 0;bottom: 0;left: 50%;z-index: 0;}#sk-container-id-1 div.sk-serial {display: flex;flex-direction: column;align-items: center;background-color: white;padding-right: 0.2em;padding-left: 0.2em;position: relative;}#sk-container-id-1 div.sk-item {position: relative;z-index: 1;}#sk-container-id-1 div.sk-parallel {display: flex;align-items: stretch;justify-content: center;background-color: white;position: relative;}#sk-container-id-1 div.sk-item::before, #sk-container-id-1 div.sk-parallel-item::before {content: \"\";position: absolute;border-left: 1px solid gray;box-sizing: border-box;top: 0;bottom: 0;left: 50%;z-index: -1;}#sk-container-id-1 div.sk-parallel-item {display: flex;flex-direction: column;z-index: 1;position: relative;background-color: white;}#sk-container-id-1 div.sk-parallel-item:first-child::after {align-self: flex-end;width: 50%;}#sk-container-id-1 div.sk-parallel-item:last-child::after {align-self: flex-start;width: 50%;}#sk-container-id-1 div.sk-parallel-item:only-child::after {width: 0;}#sk-container-id-1 div.sk-dashed-wrapped {border: 1px dashed gray;margin: 0 0.4em 0.5em 0.4em;box-sizing: border-box;padding-bottom: 0.4em;background-color: white;}#sk-container-id-1 div.sk-label label {font-family: monospace;font-weight: bold;display: inline-block;line-height: 1.2em;}#sk-container-id-1 div.sk-label-container {text-align: center;}#sk-container-id-1 div.sk-container {/* jupyter's `normalize.less` sets `[hidden] { display: none; }` but bootstrap.min.css set `[hidden] { display: none !important; }` so we also need the `!important` here to be able to override the default hidden behavior on the sphinx rendered scikit-learn.org. See: https://github.com/scikit-learn/scikit-learn/issues/21755 */display: inline-block !important;position: relative;}#sk-container-id-1 div.sk-text-repr-fallback {display: none;}</style><div id=\"sk-container-id-1\" class=\"sk-top-container\"><div class=\"sk-text-repr-fallback\"><pre>MultinomialNB()</pre><b>In a Jupyter environment, please rerun this cell to show the HTML representation or trust the notebook. <br />On GitHub, the HTML representation is unable to render, please try loading this page with nbviewer.org.</b></div><div class=\"sk-container\" hidden><div class=\"sk-item\"><div class=\"sk-estimator sk-toggleable\"><input class=\"sk-toggleable__control sk-hidden--visually\" id=\"sk-estimator-id-1\" type=\"checkbox\" checked><label for=\"sk-estimator-id-1\" class=\"sk-toggleable__label sk-toggleable__label-arrow\">MultinomialNB</label><div class=\"sk-toggleable__content\"><pre>MultinomialNB()</pre></div></div></div></div></div>"
      ],
      "text/plain": [
       "MultinomialNB()"
      ]
     },
     "execution_count": 11,
     "metadata": {},
     "output_type": "execute_result"
    }
   ],
   "source": [
    "# Train Naive Bayes classifier\n",
    "model = MultinomialNB()\n",
    "model.fit(X_train_tfidf, y_train)\n"
   ]
  },
  {
   "cell_type": "code",
   "execution_count": 12,
   "id": "2870c788",
   "metadata": {},
   "outputs": [],
   "source": [
    "# Predict on the test set\n",
    "y_pred = model.predict(X_test_tfidf)\n"
   ]
  },
  {
   "cell_type": "code",
   "execution_count": 13,
   "id": "1a6915bb",
   "metadata": {},
   "outputs": [
    {
     "name": "stdout",
     "output_type": "stream",
     "text": [
      "Model Accuracy: 95.25%\n"
     ]
    }
   ],
   "source": [
    "# Calculate accuracy\n",
    "accuracy = accuracy_score(y_test, y_pred)\n",
    "print(f\"Model Accuracy: {accuracy * 100:.2f}%\")\n"
   ]
  },
  {
   "cell_type": "code",
   "execution_count": 14,
   "id": "fce90c50",
   "metadata": {},
   "outputs": [],
   "source": [
    "INTERFACE\n"
   ]
  },
  {
   "cell_type": "code",
   "execution_count": 13,
   "id": "868308f2",
   "metadata": {},
   "outputs": [],
   "source": [
    "import tkinter as tk\n",
    "from tkinter import messagebox, Scrollbar, Text\n",
    "from tkinter.font import Font\n",
    "\n",
    "# Function to classify news\n",
    "def classify_news():\n",
    "    user_input = entry.get(\"1.0\", \"end-1c\")  # Get the user input from the text box\n",
    "    if not user_input.strip():\n",
    "        messagebox.showwarning(\"Input Error\", \"Please enter some news text.\")\n",
    "        return\n",
    "    \n",
    "    user_input_tfidf = vectorizer.transform([user_input])  # Transform input to match training data\n",
    "    prediction = model.predict(user_input_tfidf)\n",
    "    \n",
    "    if prediction == 1:\n",
    "        result = \"This news is Real.\"\n",
    "        status_label.config(text=\"Prediction: Real News\", fg=\"green\")\n",
    "    else:\n",
    "        result = \"This news is Fake.\"\n",
    "        status_label.config(text=\"Prediction: Fake News\", fg=\"red\")\n",
    "    \n",
    "    messagebox.showinfo(\"Prediction\", result)\n",
    "\n",
    "# Function to reset the input area and status label\n",
    "def reset_input():\n",
    "    entry.delete(\"1.0\", \"end\")  # Clear the text area\n",
    "    status_label.config(text=\"Prediction: Awaiting input...\", fg=\"black\")  # Reset status label\n",
    "\n",
    "# Create the main window\n",
    "window = tk.Tk()\n",
    "window.title(\"Fake News Detector\")\n",
    "window.geometry(\"600x400\")  # Set window size\n",
    "\n",
    "# Set background color and padding\n",
    "window.configure(bg=\"#F0F0F0\")\n",
    "window.resizable(False, False)\n",
    "\n",
    "# Set font styles\n",
    "title_font = Font(family=\"Helvetica\", size=16, weight=\"bold\")\n",
    "label_font = Font(family=\"Arial\", size=12)\n",
    "button_font = Font(family=\"Arial\", size=10, weight=\"bold\")\n",
    "\n",
    "# Title Label\n",
    "title_label = tk.Label(window, text=\"News Detector\", font=title_font, bg=\"#F0F0F0\", pady=10)\n",
    "title_label.pack()\n",
    "\n",
    "# Add a label for instructions\n",
    "label = tk.Label(window, text=\"Enter the news text below for classification:\", font=label_font, bg=\"#F0F0F0\")\n",
    "label.pack()\n",
    "\n",
    "# Frame to contain the Text widget and Scrollbar\n",
    "text_frame = tk.Frame(window, bg=\"#F0F0F0\")\n",
    "text_frame.pack(pady=10)\n",
    "\n",
    "# Scrollbar for the text box\n",
    "scrollbar = Scrollbar(text_frame)\n",
    "scrollbar.pack(side=tk.RIGHT, fill=tk.Y)\n",
    "\n",
    "# Text entry box for input (Scrollable)\n",
    "entry = Text(text_frame, height=10, width=60, font=(\"Arial\", 12), yscrollcommand=scrollbar.set)\n",
    "entry.pack(side=tk.LEFT)\n",
    "scrollbar.config(command=entry.yview)\n",
    "\n",
    "# Classify button with padding and custom font\n",
    "classify_button = tk.Button(window, text=\"Classify News\", font=button_font, bg=\"#4CAF50\", fg=\"white\", command=classify_news)\n",
    "classify_button.pack(pady=10)\n",
    "\n",
    "# Reset button to clear input and status\n",
    "reset_button = tk.Button(window, text=\"Reset\", font=button_font, bg=\"#f44336\", fg=\"white\", command=reset_input)\n",
    "reset_button.pack(pady=5)\n",
    "\n",
    "# Status label to display prediction result dynamically\n",
    "status_label = tk.Label(window, text=\"Prediction: Awaiting input...\", font=label_font, bg=\"#F0F0F0\", pady=10)\n",
    "status_label.pack()\n",
    "\n",
    "# Run the application\n",
    "window.mainloop()\n",
    "\n"
   ]
  },
  {
   "cell_type": "code",
   "execution_count": null,
   "id": "bf3a45ca",
   "metadata": {},
   "outputs": [],
   "source": []
  }
 ],
 "metadata": {
  "kernelspec": {
   "display_name": "Python 3 (ipykernel)",
   "language": "python",
   "name": "python3"
  },
  "language_info": {
   "codemirror_mode": {
    "name": "ipython",
    "version": 3
   },
   "file_extension": ".py",
   "mimetype": "text/x-python",
   "name": "python",
   "nbconvert_exporter": "python",
   "pygments_lexer": "ipython3",
   "version": "3.11.5"
  }
 },
 "nbformat": 4,
 "nbformat_minor": 5
}
